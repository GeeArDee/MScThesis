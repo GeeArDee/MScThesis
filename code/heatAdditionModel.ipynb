{
 "cells": [
  {
   "cell_type": "code",
   "execution_count": 25,
   "metadata": {},
   "outputs": [],
   "source": [
    "import matplotlib.pyplot as plt\n",
    "import numpy as np\n",
    "import CoolProp as cp\n",
    "from scipy import constants\n",
    "from Laser import util\n",
    "from datamanager import shotlist\n",
    "from Pressure import pcb"
   ]
  },
  {
   "cell_type": "code",
   "execution_count": 26,
   "metadata": {},
   "outputs": [
    {
     "name": "stdout",
     "output_type": "stream",
     "text": [
      "cv = 312.18J/kg K\n",
      "cp = 520.30 J/kg K\n",
      "STATE 0:\n",
      "Pressure: 20.0000 bar\n",
      "Temperature: 300.00 K\n",
      "Volume: 400000.0 mm^3\n",
      "Mass: 12.81 g\n"
     ]
    }
   ],
   "source": [
    "MW = 0.03995  # kg/mol, Argon molecular weight\n",
    "Rg = constants.R/MW  # J/kg K, Argon gas constant\n",
    "\n",
    "# Constant cp, cv\n",
    "heat_cap_v = 1.5*Rg\n",
    "heat_cap_p = 2.5*Rg\n",
    "gamma = heat_cap_p/heat_cap_v\n",
    "\n",
    "# INPUT PARAMETERS (STATE 0)\n",
    "V_0 = 4e-4  # m^3, Total system volume\n",
    "p_0 = 20e5  # Pa, initial pressure\n",
    "subvolume_factor = 1/1000000  # Fraction of total volume receiving heat\n",
    "heat_addition = 30  # J, heat addition by laser\n",
    "T_0 = 300  # K\n",
    "m = p_0*V_0/(Rg*T_0)  # kg\n",
    "rho_0 = m/V_0  # kg/m^3\n",
    "\n",
    "def printState(label, p=None, T=None, V=None, m=None):\n",
    "    props = {\n",
    "        0: ('Pressure', 'bar', 1e-5, '.4f'),\n",
    "        1: ('Temperature', 'K', 1, '.2f'),\n",
    "        2: ('Volume', 'mm^3', 1000**3, '.1f'),\n",
    "        3: ('Mass', 'g', 1000, '.2f'),\n",
    "    }\n",
    "    print('STATE {}:'.format(label))\n",
    "    for i, value in enumerate([p,T,V,m]):\n",
    "        if value:\n",
    "            print('{0}: {1:{prec}} {2}'.format(props[i][0], \n",
    "                                              value*props[i][2], \n",
    "                                              props[i][1],\n",
    "                                              prec=props[i][3]))\n",
    "\n",
    "# print('STATE 0:\\n{:.2f} K\\n{:.2f} kPa'.format(T_0, p_0/1000))\n",
    "print('cv = {:.2f}J/kg K\\ncp = {:.2f} J/kg K'.format(heat_cap_v, heat_cap_p))\n",
    "printState('0', p=p_0, T=T_0, V=V_0, m=m)"
   ]
  },
  {
   "cell_type": "markdown",
   "metadata": {},
   "source": [
    "### Adding heat at constant volume to a small sub-volume (state 1)\n",
    "\n",
    "We will now partition a small sub-volume of argon called “A” that has 1/1000 \n",
    "of the total volume. (The remaining 999/1000 of the gas will be denoted “B”.)\n",
    "\n",
    "To this region of gas, we will add Q = 30 J of heat at constant volume.\n",
    "\n",
    "Compute the final temperature and pressure, which we will call state 1."
   ]
  },
  {
   "cell_type": "code",
   "execution_count": 27,
   "metadata": {},
   "outputs": [
    {
     "name": "stdout",
     "output_type": "stream",
     "text": [
      "STATE 1 (A):\n",
      "Pressure: 500020.0000 bar\n",
      "Temperature: 7500300.00 K\n",
      "Volume: 0.4 mm^3\n"
     ]
    }
   ],
   "source": [
    "# STATE 1: Add heat_addition into the subvolume, at constant volume\n",
    "V_A0 = subvolume_factor*V_0\n",
    "m_A0 = subvolume_factor*m\n",
    "m_B0 = (1-subvolume_factor)*m\n",
    "T_A1 = T_0 + heat_addition/(m_A0*heat_cap_v)\n",
    "p_A1 = m_A0*Rg*T_A1/V_A0\n",
    "printState('1 (A)', p=p_A1, T=T_A1, V=V_A0)"
   ]
  },
  {
   "cell_type": "markdown",
   "metadata": {},
   "source": [
    "### Expanding from state 1 to state 2 via isentropic expansion\n",
    "We will now assume the gas in region A expands into region B isentropically and without heat transfer. We can imagine the two regions are separated by a perfect insulating piston (assume piston occupies no volume or mass). Both the A region and B region must follow $pV^k =$ constant. Find the final volume and temperature of each region so that the pressures are equal in each region. We will call this final state “state 2.”\n",
    "\n",
    "**Deeper question:** Does the final answer for state 2 depend on the initial volume we deposited heat into? I.e., repeat this calculation if region “A” is 1/100 or 1/10000 of the total volume."
   ]
  },
  {
   "cell_type": "markdown",
   "metadata": {},
   "source": [
    "#### Solution method\n",
    "Set up system of equations:\n",
    "$$\n",
    "    \\Biggl\\{\\begin{array}{ccccc}\n",
    "        p_{\\mathrm{A}2}V_{\\mathrm{A}2}^\\gamma & & &= &p_{\\mathrm{A}1}V_{\\mathrm{A}1}^\\gamma \\\\\n",
    "         & & p_{\\mathrm{B}2}V_{\\mathrm{B}2}^\\gamma &= &p_{\\mathrm{B}1}V_{\\mathrm{B}1}^\\gamma \\\\\n",
    "        V_{\\mathrm{A}2} &+ &V_{\\mathrm{B}2} &= &V_0\n",
    "    \\end{array}\n",
    "$$\n",
    "\n",
    "Then, since $p_{\\mathrm{A}2} + p_{\\mathrm{B}2} = p_2$ and $V_{\\mathrm{A}2} = V_0 - V_{\\mathrm{B}2}$, these can be substituted into the system, reducing it to two equations:\n",
    "$$\n",
    "    \\biggl\\{\\begin{array}{ll}\n",
    "        p_2(V_0 - V_{\\mathrm{B}2})^\\gamma &= p_{\\mathrm{A}1}V_{\\mathrm{A}1}^\\gamma \\\\\n",
    "        p_2V_{\\mathrm{B}2}^\\gamma &= p_{\\mathrm{B}1}V_{\\mathrm{B}1}^\\gamma\n",
    "    \\end{array}\n",
    "$$\n",
    "The second equation can then be re-arranged to substitute it into $p_2$, resulting in an equation that can be solved for $V_{\\mathrm{B}2}$:\n",
    "$$\n",
    "    p_2 = p_{\\mathrm{B}1}V_{\\mathrm{B}1}^\\gamma V_{\\mathrm{B}2}^{-\\gamma}\n",
    "$$\n",
    "$$\n",
    "    p_{\\mathrm{B}1}V_{\\mathrm{B}1}^\\gamma V_{\\mathrm{B}2}^{-\\gamma}(V_0 - V_{\\mathrm{B}2})^\\gamma = p_{\\mathrm{A}1}V_{\\mathrm{A}1}^\\gamma\n",
    "$$\n",
    "Regroup the terms raised to $\\gamma$ on one side, and the others on the other side:\n",
    "$$\n",
    "    \\left(\\frac{V_{\\mathrm{B}1}(V_0-V_{\\mathrm{B}2})}{V_{\\mathrm{A}1}V_{\\mathrm{B}2}}\\right)^\\gamma = \\frac{p_{\\mathrm{A}1}}{p_{\\mathrm{B}1}}\n",
    "$$\n",
    "Defining the fraction of the total volume taken by A as $\\alpha = 1/1000$, $V_{\\mathrm{B}1}/V_{\\mathrm{A}1}$ can be expressed exclusively in terms of $\\alpha$:\n",
    "$$\n",
    "    \\frac{1-\\alpha}{\\alpha}\\frac{(V_0-V_{\\mathrm{B}2})}{V_{\\mathrm{B}2}} = \\left(\\frac{p_{\\mathrm{A}1}}{p_{\\mathrm{B}1}}\\right)^{1/\\gamma}\n",
    "$$\n",
    "Then, with some algebra, we get a closed-form expression for $V_{\\mathrm{B}2}$:\n",
    "$$\n",
    "    V_{\\mathrm{B}2} = \\frac{V_0}{\\frac{\\alpha}{1-\\alpha}\\left(\\frac{p_{\\mathrm{A}1}}{p_{\\mathrm{B}1}}\\right)^{1/\\gamma}+1}\n",
    "$$"
   ]
  },
  {
   "cell_type": "code",
   "execution_count": 28,
   "metadata": {},
   "outputs": [
    {
     "name": "stdout",
     "output_type": "stream",
     "text": [
      "STATE 2 (A):\n",
      "Pressure: 20.0145 bar\n",
      "Temperature: 130623.52 K\n",
      "Volume: 174.0 mm^3\n",
      "\n",
      "STATE 2 (B):\n",
      "Pressure: 20.0145 bar\n",
      "Temperature: 300.09 K\n",
      "Volume: 399826.0 mm^3\n"
     ]
    }
   ],
   "source": [
    "# STATE 2: Expanding A and compressing B isentropically such that both volumes end up at the same pressure\n",
    "alpharatio = subvolume_factor/(1-subvolume_factor) \n",
    "V_B2 = V_0/(alpharatio*(p_A1/p_0)**(1/gamma)+1)\n",
    "p_2 = p_0*((1-subvolume_factor)*V_0)**gamma * V_B2**-gamma\n",
    "V_A2 = V_0 - V_B2\n",
    "T_B2 = p_2*V_B2/(m_B0*Rg)\n",
    "T_A2 = p_2*V_A2/(m_A0*Rg)\n",
    "printState('2 (A)', p=p_2, V=V_A2, T=T_A2)\n",
    "print('')\n",
    "printState('2 (B)', p=p_2, V=V_B2, T=T_B2)"
   ]
  },
  {
   "cell_type": "code",
   "execution_count": 29,
   "metadata": {},
   "outputs": [],
   "source": [
    "# Let's define a function to perform the above calc\n",
    "def state2(alpha):\n",
    "    V_A0 = alpha*V_0\n",
    "    m_A0 = alpha*m\n",
    "    m_B0 = (1-alpha)*m\n",
    "    T_A1 = T_0 + heat_addition/(m_A0*heat_cap_v)\n",
    "    p_A1 = m_A0*Rg*T_A1/V_A0\n",
    "    \n",
    "    alpharatio = alpha/(1-alpha) \n",
    "    V_B2 = V_0/(alpharatio*(p_A1/p_0)**(1/gamma)+1)\n",
    "    p_2 = p_0*((1-alpha)*V_0)**gamma * V_B2**-gamma\n",
    "    V_A2 = V_0 - V_B2\n",
    "    T_B2 = p_2*V_B2/(m_B0*Rg)\n",
    "    T_A2 = p_2*V_A2/(m_A0*Rg)\n",
    "\n",
    "    return (p_A1, T_A1), (p_2, T_A2), (p_2, T_B2)"
   ]
  },
  {
   "cell_type": "markdown",
   "metadata": {},
   "source": [
    "### Heat addition via constant pressure to state 3\n",
    "In this calculation, we will start over again from state 0 and add 30 J of heat at constant pressure to region A. We can do this by allowing the piston to move as we add heat. In reality, as the piston moves, it will compress region B, but from our answer to the above problem, we don’t expect this to be very significant, so we can neglect for now. Compute the final pressure and temperature in regions A and B, which we will term state 3.\n",
    "\n",
    "**Deeper question:** Again, does the final answer for state 3 depend on the initial volume we deposited heat into? I.e., repeat this calculation if region “A” is 1/100 or 1/10000 of the total volume."
   ]
  },
  {
   "cell_type": "code",
   "execution_count": 30,
   "metadata": {},
   "outputs": [
    {
     "name": "stdout",
     "output_type": "stream",
     "text": [
      "STATE 3 (A):\n",
      "Pressure: 20.0000 bar\n",
      "Temperature: 4500300.00 K\n",
      "Volume: 6000.4 mm^3\n",
      "STATE 3 (B):\n",
      "Pressure: 20.5102 bar\n",
      "Temperature: 303.04 K\n",
      "Volume: 393999.6 mm^3\n"
     ]
    }
   ],
   "source": [
    "def state3(alpha):\n",
    "    m_A0 = alpha*m\n",
    "    m_B0 = (1-alpha)*m\n",
    "    V_B0 = (1-alpha)*V_0\n",
    "    T_A3 = T_0 + heat_addition/(m_A0*heat_cap_p)\n",
    "    V_A3 = m_A0*Rg*T_A3/p_0\n",
    "    V_B3 = V_0 - V_A3\n",
    "    # So... the decrease in volume can either happen with a decrease in temperature\n",
    "    # (but it can't if we're assuming adiabatic processes) so we compute an isentropic\n",
    "    # compression anyway even if it doesn't quite make sense with the isobaric heat\n",
    "    # addition above\n",
    "    p_B3 = p_0*(V_B0/V_B3)**gamma\n",
    "    T_B3 = p_B3*V_B3/(m_B0*Rg)\n",
    "\n",
    "    return (p_0, T_A3, V_A3), (p_B3, T_B3, V_B3)\n",
    "\n",
    "state_A3, state_B3 = state3(subvolume_factor)\n",
    "printState('3 (A)', *state_A3)\n",
    "printState('3 (B)', *state_B3)"
   ]
  },
  {
   "cell_type": "markdown",
   "metadata": {},
   "source": [
    "### Uniform heat addition to entire volume (state 4)\n",
    "\n",
    "Finally, assume that the 30 J is added to entire initial volume (not just to region A) at constant volume. Compute the final pressure and temperature of argon. This should be the final state of any process after the heat is uniformly distributed through the entire volume of argon. Find the pressure and temperature of this state (state 4)."
   ]
  },
  {
   "cell_type": "code",
   "execution_count": 31,
   "metadata": {},
   "outputs": [
    {
     "name": "stdout",
     "output_type": "stream",
     "text": [
      "STATE 4:\n",
      "Pressure: 20.5000 bar\n",
      "Temperature: 307.50 K\n"
     ]
    }
   ],
   "source": [
    "def state4():\n",
    "    T_4 = T_0 + heat_addition/(m*heat_cap_v)\n",
    "    p_4 = m*Rg*T_4/V_0\n",
    "    return (p_4, T_4)\n",
    "\n",
    "printState('4', *state4())"
   ]
  },
  {
   "cell_type": "markdown",
   "metadata": {},
   "source": [
    "### Calculation Summary\n",
    "\n",
    "Repeating these for different $\\alpha$ values"
   ]
  },
  {
   "cell_type": "code",
   "execution_count": 32,
   "metadata": {},
   "outputs": [
    {
     "name": "stdout",
     "output_type": "stream",
     "text": [
      "       |   p [kPa]     T [K] |   p [kPa]     T [K] |   p [kPa]     T [K] |   p [kPa]     T [K]\n",
      "STATE  |    V_A/V_0 = 1/1000 |     V_A/V_0 = 1/100 |   V_A/V_0 = 1/10000 |  V_A/V_0 = 1/100000\n",
      "-------|---------------------|---------------------|---------------------|--------------------\n",
      "A1     |  52000.00   7800.00 |   7000.00   1050.00 | 502000.00  75300.00 |5002000.00 750300.00\n",
      "A2     |   2020.25   2127.43 |   2037.49    640.90 |   2008.85   8273.56 |   2003.61  32832.43\n",
      "B2     |   2020.25    301.21 |   2037.49    302.24 |   2008.85    300.53 |   2003.61    300.22\n",
      "A3     |   2000.00   4800.00 |   2000.00    750.00 |   2000.00  45300.00 |   2000.00 450300.00\n",
      "B3     |   2051.07    303.04 |   2051.54    303.07 |   2051.02    303.04 |   2051.02    303.04\n",
      "4      |   2050.00    307.50 |   2050.00    307.50 |   2050.00    307.50 |   2050.00    307.50\n"
     ]
    }
   ],
   "source": [
    "p_0 = 20e5\n",
    "heat_addition = 30\n",
    "results = {}\n",
    "alphas = ['1/1000', '1/100', '1/10000', '1/100000']\n",
    "statelabels =['A1', 'A2', 'B2', 'A3', 'B3', '4']\n",
    "for a in alphas:\n",
    "    alphaval = eval(a)\n",
    "    sA1, sA2, sB2 = state2(alphaval)\n",
    "    sA3, sB3 = state3(alphaval)\n",
    "    s4 = state4()\n",
    "    results[a] = dict(zip(statelabels, [sA1, sA2, sB2, sA3, sB3, s4]))\n",
    "\n",
    "print('       |'+ ' |'.join(['   p [kPa]     T [K]']*len(alphas)))\n",
    "print('STATE  |'+ ' |'.join(['{:>20}'.format('V_A/V_0 = '+a) for a in alphas]))\n",
    "print('-------|'+ '-|'.join(['-'*20]*len(alphas)))\n",
    "for s in statelabels:\n",
    "    print('{label:7}|'.format(label=s)+' |'.join(['{p:>10.2f}{T:>10.2f}'.format(p=results[a][s][0]/1000, T=results[a][s][1]) for a in alphas]))"
   ]
  }
 ],
 "metadata": {
  "kernelspec": {
   "display_name": "code-msEXC-A5",
   "language": "python",
   "name": "python3"
  },
  "language_info": {
   "codemirror_mode": {
    "name": "ipython",
    "version": 3
   },
   "file_extension": ".py",
   "mimetype": "text/x-python",
   "name": "python",
   "nbconvert_exporter": "python",
   "pygments_lexer": "ipython3",
   "version": "3.11.2"
  },
  "orig_nbformat": 4
 },
 "nbformat": 4,
 "nbformat_minor": 2
}
